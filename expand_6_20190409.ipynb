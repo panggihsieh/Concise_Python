{
  "nbformat": 4,
  "nbformat_minor": 0,
  "metadata": {
    "colab": {
      "name": "expand_6_20190409.ipynb",
      "version": "0.3.2",
      "provenance": [],
      "include_colab_link": true
    },
    "kernelspec": {
      "name": "python3",
      "display_name": "Python 3"
    }
  },
  "cells": [
    {
      "cell_type": "markdown",
      "metadata": {
        "id": "view-in-github",
        "colab_type": "text"
      },
      "source": [
        "<a href=\"https://colab.research.google.com/github/panggihsieh/Concise_Python/blob/master/expand_6_20190409.ipynb\" target=\"_parent\"><img src=\"https://colab.research.google.com/assets/colab-badge.svg\" alt=\"Open In Colab\"/></a>"
      ]
    },
    {
      "metadata": {
        "id": "RFXMf848PHCt",
        "colab_type": "code",
        "colab": {
          "base_uri": "https://localhost:8080/",
          "height": 102
        },
        "outputId": "cf063e9b-46f1-4791-a50d-f9e3d6d01c07"
      },
      "cell_type": "code",
      "source": [
        "r,c=5,4\n",
        "lines=''\n",
        "for row in range(r):\n",
        "  for col in range(c):\n",
        "    if(row%2 == 0 or col == 0 or (row == 3 and col == 3)):lines +='*'\n",
        "    else : lines +=' '\n",
        "  print(lines)\n",
        "  lines=''\n",
        "  "
      ],
      "execution_count": 5,
      "outputs": [
        {
          "output_type": "stream",
          "text": [
            "****\n",
            "*   \n",
            "****\n",
            "*  *\n",
            "****\n"
          ],
          "name": "stdout"
        }
      ]
    },
    {
      "metadata": {
        "id": "tx2AcM9DQlyQ",
        "colab_type": "code",
        "colab": {
          "base_uri": "https://localhost:8080/",
          "height": 289
        },
        "outputId": "ea939714-3d8c-4e51-c3bf-7fe908eef240"
      },
      "cell_type": "code",
      "source": [
        "r,c,n=5,4,3\n",
        "lines='' #以每列的每點做繪圖判斷\n",
        "n=int(input('input expand shape-six num. > '))\n",
        "for row in range(5):\n",
        "    \n",
        "    for col in range(4):\n",
        "            if (col==0 or row%2==0 or (col==3 and row==3)):lines +='*'*n \n",
        "            else :lines +=' '*n\n",
        "    for i in range(n):print(lines)\n",
        "    lines=''"
      ],
      "execution_count": 4,
      "outputs": [
        {
          "output_type": "stream",
          "text": [
            "input expand shape-six num. > 3\n",
            "************\n",
            "************\n",
            "************\n",
            "***         \n",
            "***         \n",
            "***         \n",
            "************\n",
            "************\n",
            "************\n",
            "***      ***\n",
            "***      ***\n",
            "***      ***\n",
            "************\n",
            "************\n",
            "************\n"
          ],
          "name": "stdout"
        }
      ]
    },
    {
      "metadata": {
        "id": "0wTvbMBsPIuN",
        "colab_type": "code",
        "colab": {}
      },
      "cell_type": "code",
      "source": [
        ""
      ],
      "execution_count": 0,
      "outputs": []
    }
  ]
}